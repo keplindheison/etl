{
 "cells": [
  {
   "cell_type": "code",
   "execution_count": 39,
   "metadata": {},
   "outputs": [],
   "source": [
    "import sys\n",
    "sys.path.append('..')\n",
    "\n",
    "from constants import RIOT_TOKEN\n",
    "from datetime import date, datetime\n",
    "\n",
    "import juno \n",
    "import pandas as pd\n",
    "\n",
    "juno.authenticate(RIOT_TOKEN)"
   ]
  },
  {
   "cell_type": "code",
   "execution_count": 40,
   "metadata": {},
   "outputs": [],
   "source": [
    "from juno.utils.constants import *"
   ]
  },
  {
   "cell_type": "code",
   "execution_count": 41,
   "metadata": {},
   "outputs": [],
   "source": [
    "queue = QUEUE[0]\n",
    "tier = TIER[0]\n",
    "division = DIVISION[0]"
   ]
  },
  {
   "cell_type": "code",
   "execution_count": 42,
   "metadata": {},
   "outputs": [],
   "source": [
    "league = juno.LeagueExp()\n",
    "document = league.get_entries_by_queue_tier_division(queue, tier, division)"
   ]
  },
  {
   "cell_type": "code",
   "execution_count": 43,
   "metadata": {},
   "outputs": [
    {
     "data": {
      "text/plain": [
       "dict"
      ]
     },
     "execution_count": 43,
     "metadata": {},
     "output_type": "execute_result"
    }
   ],
   "source": [
    "type(document)"
   ]
  },
  {
   "cell_type": "code",
   "execution_count": 44,
   "metadata": {},
   "outputs": [],
   "source": [
    "df = pd.DataFrame(document)"
   ]
  },
  {
   "cell_type": "code",
   "execution_count": 45,
   "metadata": {},
   "outputs": [
    {
     "data": {
      "text/plain": [
       "{'content': {'status': {'message': 'Forbidden', 'status_code': 403}}}"
      ]
     },
     "execution_count": 45,
     "metadata": {},
     "output_type": "execute_result"
    }
   ],
   "source": [
    "df\n",
    "document"
   ]
  },
  {
   "cell_type": "code",
   "execution_count": 46,
   "metadata": {},
   "outputs": [
    {
     "data": {
      "text/plain": [
       "dict_keys(['content'])"
      ]
     },
     "execution_count": 46,
     "metadata": {},
     "output_type": "execute_result"
    }
   ],
   "source": [
    "document.keys()\n"
   ]
  },
  {
   "cell_type": "code",
   "execution_count": 47,
   "metadata": {},
   "outputs": [
    {
     "name": "stdout",
     "output_type": "stream",
     "text": [
      "(2, 1)\n"
     ]
    }
   ],
   "source": [
    "df = pd.DataFrame(document['content']) \n",
    "print(df.shape)\n"
   ]
  },
  {
   "cell_type": "code",
   "execution_count": 48,
   "metadata": {},
   "outputs": [
    {
     "name": "stdout",
     "output_type": "stream",
     "text": [
      "2022-04-02 13:52:53.234877\n"
     ]
    }
   ],
   "source": [
    "date = datetime.today()\n",
    "hours = datetime.today().hour\n",
    "#hours = hours - 3\n",
    "#date = date.replace(hour=hours)\n",
    "file_name = date.strftime('%d-%m-%Y-%H:%M.parquet')\n",
    "\n",
    "print(date)\n"
   ]
  },
  {
   "cell_type": "code",
   "execution_count": 49,
   "metadata": {},
   "outputs": [
    {
     "ename": "ArrowTypeError",
     "evalue": "(\"Expected bytes, got a 'int' object\", 'Conversion failed for column status with type object')",
     "output_type": "error",
     "traceback": [
      "\u001b[1;31m---------------------------------------------------------------------------\u001b[0m",
      "\u001b[1;31mArrowTypeError\u001b[0m                            Traceback (most recent call last)",
      "\u001b[1;32mc:\\Users\\dheison\\projects\\etl\\etl\\datalake\\test.ipynb Cell 11'\u001b[0m in \u001b[0;36m<cell line: 1>\u001b[1;34m()\u001b[0m\n\u001b[1;32m----> <a href='vscode-notebook-cell:/c%3A/Users/dheison/projects/etl/etl/datalake/test.ipynb#ch0000009?line=0'>1</a>\u001b[0m df\u001b[39m.\u001b[39;49mto_parquet(\u001b[39mf\u001b[39;49m\u001b[39m'\u001b[39;49m\u001b[39mgs://datalake-katsu/league-exp/\u001b[39;49m\u001b[39m{\u001b[39;49;00mfile_name\u001b[39m}\u001b[39;49;00m\u001b[39m'\u001b[39;49m)\n",
      "File \u001b[1;32mc:\\Users\\dheison\\projects\\etl\\venv\\lib\\site-packages\\pandas\\util\\_decorators.py:207\u001b[0m, in \u001b[0;36mdeprecate_kwarg.<locals>._deprecate_kwarg.<locals>.wrapper\u001b[1;34m(*args, **kwargs)\u001b[0m\n\u001b[0;32m    <a href='file:///c%3A/Users/dheison/projects/etl/venv/lib/site-packages/pandas/util/_decorators.py?line=204'>205</a>\u001b[0m     \u001b[39melse\u001b[39;00m:\n\u001b[0;32m    <a href='file:///c%3A/Users/dheison/projects/etl/venv/lib/site-packages/pandas/util/_decorators.py?line=205'>206</a>\u001b[0m         kwargs[new_arg_name] \u001b[39m=\u001b[39m new_arg_value\n\u001b[1;32m--> <a href='file:///c%3A/Users/dheison/projects/etl/venv/lib/site-packages/pandas/util/_decorators.py?line=206'>207</a>\u001b[0m \u001b[39mreturn\u001b[39;00m func(\u001b[39m*\u001b[39margs, \u001b[39m*\u001b[39m\u001b[39m*\u001b[39mkwargs)\n",
      "File \u001b[1;32mc:\\Users\\dheison\\projects\\etl\\venv\\lib\\site-packages\\pandas\\core\\frame.py:2835\u001b[0m, in \u001b[0;36mDataFrame.to_parquet\u001b[1;34m(self, path, engine, compression, index, partition_cols, storage_options, **kwargs)\u001b[0m\n\u001b[0;32m   <a href='file:///c%3A/Users/dheison/projects/etl/venv/lib/site-packages/pandas/core/frame.py?line=2748'>2749</a>\u001b[0m \u001b[39m\"\"\"\u001b[39;00m\n\u001b[0;32m   <a href='file:///c%3A/Users/dheison/projects/etl/venv/lib/site-packages/pandas/core/frame.py?line=2749'>2750</a>\u001b[0m \u001b[39mWrite a DataFrame to the binary parquet format.\u001b[39;00m\n\u001b[0;32m   <a href='file:///c%3A/Users/dheison/projects/etl/venv/lib/site-packages/pandas/core/frame.py?line=2750'>2751</a>\u001b[0m \n\u001b[1;32m   (...)\u001b[0m\n\u001b[0;32m   <a href='file:///c%3A/Users/dheison/projects/etl/venv/lib/site-packages/pandas/core/frame.py?line=2830'>2831</a>\u001b[0m \u001b[39m>>> content = f.read()\u001b[39;00m\n\u001b[0;32m   <a href='file:///c%3A/Users/dheison/projects/etl/venv/lib/site-packages/pandas/core/frame.py?line=2831'>2832</a>\u001b[0m \u001b[39m\"\"\"\u001b[39;00m\n\u001b[0;32m   <a href='file:///c%3A/Users/dheison/projects/etl/venv/lib/site-packages/pandas/core/frame.py?line=2832'>2833</a>\u001b[0m \u001b[39mfrom\u001b[39;00m \u001b[39mpandas\u001b[39;00m\u001b[39m.\u001b[39;00m\u001b[39mio\u001b[39;00m\u001b[39m.\u001b[39;00m\u001b[39mparquet\u001b[39;00m \u001b[39mimport\u001b[39;00m to_parquet\n\u001b[1;32m-> <a href='file:///c%3A/Users/dheison/projects/etl/venv/lib/site-packages/pandas/core/frame.py?line=2834'>2835</a>\u001b[0m \u001b[39mreturn\u001b[39;00m to_parquet(\n\u001b[0;32m   <a href='file:///c%3A/Users/dheison/projects/etl/venv/lib/site-packages/pandas/core/frame.py?line=2835'>2836</a>\u001b[0m     \u001b[39mself\u001b[39m,\n\u001b[0;32m   <a href='file:///c%3A/Users/dheison/projects/etl/venv/lib/site-packages/pandas/core/frame.py?line=2836'>2837</a>\u001b[0m     path,\n\u001b[0;32m   <a href='file:///c%3A/Users/dheison/projects/etl/venv/lib/site-packages/pandas/core/frame.py?line=2837'>2838</a>\u001b[0m     engine,\n\u001b[0;32m   <a href='file:///c%3A/Users/dheison/projects/etl/venv/lib/site-packages/pandas/core/frame.py?line=2838'>2839</a>\u001b[0m     compression\u001b[39m=\u001b[39mcompression,\n\u001b[0;32m   <a href='file:///c%3A/Users/dheison/projects/etl/venv/lib/site-packages/pandas/core/frame.py?line=2839'>2840</a>\u001b[0m     index\u001b[39m=\u001b[39mindex,\n\u001b[0;32m   <a href='file:///c%3A/Users/dheison/projects/etl/venv/lib/site-packages/pandas/core/frame.py?line=2840'>2841</a>\u001b[0m     partition_cols\u001b[39m=\u001b[39mpartition_cols,\n\u001b[0;32m   <a href='file:///c%3A/Users/dheison/projects/etl/venv/lib/site-packages/pandas/core/frame.py?line=2841'>2842</a>\u001b[0m     storage_options\u001b[39m=\u001b[39mstorage_options,\n\u001b[0;32m   <a href='file:///c%3A/Users/dheison/projects/etl/venv/lib/site-packages/pandas/core/frame.py?line=2842'>2843</a>\u001b[0m     \u001b[39m*\u001b[39m\u001b[39m*\u001b[39mkwargs,\n\u001b[0;32m   <a href='file:///c%3A/Users/dheison/projects/etl/venv/lib/site-packages/pandas/core/frame.py?line=2843'>2844</a>\u001b[0m )\n",
      "File \u001b[1;32mc:\\Users\\dheison\\projects\\etl\\venv\\lib\\site-packages\\pandas\\io\\parquet.py:420\u001b[0m, in \u001b[0;36mto_parquet\u001b[1;34m(df, path, engine, compression, index, storage_options, partition_cols, **kwargs)\u001b[0m\n\u001b[0;32m    <a href='file:///c%3A/Users/dheison/projects/etl/venv/lib/site-packages/pandas/io/parquet.py?line=415'>416</a>\u001b[0m impl \u001b[39m=\u001b[39m get_engine(engine)\n\u001b[0;32m    <a href='file:///c%3A/Users/dheison/projects/etl/venv/lib/site-packages/pandas/io/parquet.py?line=417'>418</a>\u001b[0m path_or_buf: FilePath \u001b[39m|\u001b[39m WriteBuffer[\u001b[39mbytes\u001b[39m] \u001b[39m=\u001b[39m io\u001b[39m.\u001b[39mBytesIO() \u001b[39mif\u001b[39;00m path \u001b[39mis\u001b[39;00m \u001b[39mNone\u001b[39;00m \u001b[39melse\u001b[39;00m path\n\u001b[1;32m--> <a href='file:///c%3A/Users/dheison/projects/etl/venv/lib/site-packages/pandas/io/parquet.py?line=419'>420</a>\u001b[0m impl\u001b[39m.\u001b[39mwrite(\n\u001b[0;32m    <a href='file:///c%3A/Users/dheison/projects/etl/venv/lib/site-packages/pandas/io/parquet.py?line=420'>421</a>\u001b[0m     df,\n\u001b[0;32m    <a href='file:///c%3A/Users/dheison/projects/etl/venv/lib/site-packages/pandas/io/parquet.py?line=421'>422</a>\u001b[0m     path_or_buf,\n\u001b[0;32m    <a href='file:///c%3A/Users/dheison/projects/etl/venv/lib/site-packages/pandas/io/parquet.py?line=422'>423</a>\u001b[0m     compression\u001b[39m=\u001b[39mcompression,\n\u001b[0;32m    <a href='file:///c%3A/Users/dheison/projects/etl/venv/lib/site-packages/pandas/io/parquet.py?line=423'>424</a>\u001b[0m     index\u001b[39m=\u001b[39mindex,\n\u001b[0;32m    <a href='file:///c%3A/Users/dheison/projects/etl/venv/lib/site-packages/pandas/io/parquet.py?line=424'>425</a>\u001b[0m     partition_cols\u001b[39m=\u001b[39mpartition_cols,\n\u001b[0;32m    <a href='file:///c%3A/Users/dheison/projects/etl/venv/lib/site-packages/pandas/io/parquet.py?line=425'>426</a>\u001b[0m     storage_options\u001b[39m=\u001b[39mstorage_options,\n\u001b[0;32m    <a href='file:///c%3A/Users/dheison/projects/etl/venv/lib/site-packages/pandas/io/parquet.py?line=426'>427</a>\u001b[0m     \u001b[39m*\u001b[39m\u001b[39m*\u001b[39mkwargs,\n\u001b[0;32m    <a href='file:///c%3A/Users/dheison/projects/etl/venv/lib/site-packages/pandas/io/parquet.py?line=427'>428</a>\u001b[0m )\n\u001b[0;32m    <a href='file:///c%3A/Users/dheison/projects/etl/venv/lib/site-packages/pandas/io/parquet.py?line=429'>430</a>\u001b[0m \u001b[39mif\u001b[39;00m path \u001b[39mis\u001b[39;00m \u001b[39mNone\u001b[39;00m:\n\u001b[0;32m    <a href='file:///c%3A/Users/dheison/projects/etl/venv/lib/site-packages/pandas/io/parquet.py?line=430'>431</a>\u001b[0m     \u001b[39massert\u001b[39;00m \u001b[39misinstance\u001b[39m(path_or_buf, io\u001b[39m.\u001b[39mBytesIO)\n",
      "File \u001b[1;32mc:\\Users\\dheison\\projects\\etl\\venv\\lib\\site-packages\\pandas\\io\\parquet.py:174\u001b[0m, in \u001b[0;36mPyArrowImpl.write\u001b[1;34m(self, df, path, compression, index, storage_options, partition_cols, **kwargs)\u001b[0m\n\u001b[0;32m    <a href='file:///c%3A/Users/dheison/projects/etl/venv/lib/site-packages/pandas/io/parquet.py?line=170'>171</a>\u001b[0m \u001b[39mif\u001b[39;00m index \u001b[39mis\u001b[39;00m \u001b[39mnot\u001b[39;00m \u001b[39mNone\u001b[39;00m:\n\u001b[0;32m    <a href='file:///c%3A/Users/dheison/projects/etl/venv/lib/site-packages/pandas/io/parquet.py?line=171'>172</a>\u001b[0m     from_pandas_kwargs[\u001b[39m\"\u001b[39m\u001b[39mpreserve_index\u001b[39m\u001b[39m\"\u001b[39m] \u001b[39m=\u001b[39m index\n\u001b[1;32m--> <a href='file:///c%3A/Users/dheison/projects/etl/venv/lib/site-packages/pandas/io/parquet.py?line=173'>174</a>\u001b[0m table \u001b[39m=\u001b[39m \u001b[39mself\u001b[39m\u001b[39m.\u001b[39mapi\u001b[39m.\u001b[39mTable\u001b[39m.\u001b[39mfrom_pandas(df, \u001b[39m*\u001b[39m\u001b[39m*\u001b[39mfrom_pandas_kwargs)\n\u001b[0;32m    <a href='file:///c%3A/Users/dheison/projects/etl/venv/lib/site-packages/pandas/io/parquet.py?line=175'>176</a>\u001b[0m path_or_handle, handles, kwargs[\u001b[39m\"\u001b[39m\u001b[39mfilesystem\u001b[39m\u001b[39m\"\u001b[39m] \u001b[39m=\u001b[39m _get_path_or_handle(\n\u001b[0;32m    <a href='file:///c%3A/Users/dheison/projects/etl/venv/lib/site-packages/pandas/io/parquet.py?line=176'>177</a>\u001b[0m     path,\n\u001b[0;32m    <a href='file:///c%3A/Users/dheison/projects/etl/venv/lib/site-packages/pandas/io/parquet.py?line=177'>178</a>\u001b[0m     kwargs\u001b[39m.\u001b[39mpop(\u001b[39m\"\u001b[39m\u001b[39mfilesystem\u001b[39m\u001b[39m\"\u001b[39m, \u001b[39mNone\u001b[39;00m),\n\u001b[1;32m   (...)\u001b[0m\n\u001b[0;32m    <a href='file:///c%3A/Users/dheison/projects/etl/venv/lib/site-packages/pandas/io/parquet.py?line=180'>181</a>\u001b[0m     is_dir\u001b[39m=\u001b[39mpartition_cols \u001b[39mis\u001b[39;00m \u001b[39mnot\u001b[39;00m \u001b[39mNone\u001b[39;00m,\n\u001b[0;32m    <a href='file:///c%3A/Users/dheison/projects/etl/venv/lib/site-packages/pandas/io/parquet.py?line=181'>182</a>\u001b[0m )\n\u001b[0;32m    <a href='file:///c%3A/Users/dheison/projects/etl/venv/lib/site-packages/pandas/io/parquet.py?line=182'>183</a>\u001b[0m \u001b[39mtry\u001b[39;00m:\n",
      "File \u001b[1;32mc:\\Users\\dheison\\projects\\etl\\venv\\lib\\site-packages\\pyarrow\\table.pxi:1782\u001b[0m, in \u001b[0;36mpyarrow.lib.Table.from_pandas\u001b[1;34m()\u001b[0m\n",
      "File \u001b[1;32mc:\\Users\\dheison\\projects\\etl\\venv\\lib\\site-packages\\pyarrow\\pandas_compat.py:594\u001b[0m, in \u001b[0;36mdataframe_to_arrays\u001b[1;34m(df, schema, preserve_index, nthreads, columns, safe)\u001b[0m\n\u001b[0;32m    <a href='file:///c%3A/Users/dheison/projects/etl/venv/lib/site-packages/pyarrow/pandas_compat.py?line=588'>589</a>\u001b[0m     \u001b[39mreturn\u001b[39;00m (\u001b[39misinstance\u001b[39m(arr, np\u001b[39m.\u001b[39mndarray) \u001b[39mand\u001b[39;00m\n\u001b[0;32m    <a href='file:///c%3A/Users/dheison/projects/etl/venv/lib/site-packages/pyarrow/pandas_compat.py?line=589'>590</a>\u001b[0m             arr\u001b[39m.\u001b[39mflags\u001b[39m.\u001b[39mcontiguous \u001b[39mand\u001b[39;00m\n\u001b[0;32m    <a href='file:///c%3A/Users/dheison/projects/etl/venv/lib/site-packages/pyarrow/pandas_compat.py?line=590'>591</a>\u001b[0m             \u001b[39missubclass\u001b[39m(arr\u001b[39m.\u001b[39mdtype\u001b[39m.\u001b[39mtype, np\u001b[39m.\u001b[39minteger))\n\u001b[0;32m    <a href='file:///c%3A/Users/dheison/projects/etl/venv/lib/site-packages/pyarrow/pandas_compat.py?line=592'>593</a>\u001b[0m \u001b[39mif\u001b[39;00m nthreads \u001b[39m==\u001b[39m \u001b[39m1\u001b[39m:\n\u001b[1;32m--> <a href='file:///c%3A/Users/dheison/projects/etl/venv/lib/site-packages/pyarrow/pandas_compat.py?line=593'>594</a>\u001b[0m     arrays \u001b[39m=\u001b[39m [convert_column(c, f)\n\u001b[0;32m    <a href='file:///c%3A/Users/dheison/projects/etl/venv/lib/site-packages/pyarrow/pandas_compat.py?line=594'>595</a>\u001b[0m               \u001b[39mfor\u001b[39;00m c, f \u001b[39min\u001b[39;00m \u001b[39mzip\u001b[39m(columns_to_convert, convert_fields)]\n\u001b[0;32m    <a href='file:///c%3A/Users/dheison/projects/etl/venv/lib/site-packages/pyarrow/pandas_compat.py?line=595'>596</a>\u001b[0m \u001b[39melse\u001b[39;00m:\n\u001b[0;32m    <a href='file:///c%3A/Users/dheison/projects/etl/venv/lib/site-packages/pyarrow/pandas_compat.py?line=596'>597</a>\u001b[0m     arrays \u001b[39m=\u001b[39m []\n",
      "File \u001b[1;32mc:\\Users\\dheison\\projects\\etl\\venv\\lib\\site-packages\\pyarrow\\pandas_compat.py:594\u001b[0m, in \u001b[0;36m<listcomp>\u001b[1;34m(.0)\u001b[0m\n\u001b[0;32m    <a href='file:///c%3A/Users/dheison/projects/etl/venv/lib/site-packages/pyarrow/pandas_compat.py?line=588'>589</a>\u001b[0m     \u001b[39mreturn\u001b[39;00m (\u001b[39misinstance\u001b[39m(arr, np\u001b[39m.\u001b[39mndarray) \u001b[39mand\u001b[39;00m\n\u001b[0;32m    <a href='file:///c%3A/Users/dheison/projects/etl/venv/lib/site-packages/pyarrow/pandas_compat.py?line=589'>590</a>\u001b[0m             arr\u001b[39m.\u001b[39mflags\u001b[39m.\u001b[39mcontiguous \u001b[39mand\u001b[39;00m\n\u001b[0;32m    <a href='file:///c%3A/Users/dheison/projects/etl/venv/lib/site-packages/pyarrow/pandas_compat.py?line=590'>591</a>\u001b[0m             \u001b[39missubclass\u001b[39m(arr\u001b[39m.\u001b[39mdtype\u001b[39m.\u001b[39mtype, np\u001b[39m.\u001b[39minteger))\n\u001b[0;32m    <a href='file:///c%3A/Users/dheison/projects/etl/venv/lib/site-packages/pyarrow/pandas_compat.py?line=592'>593</a>\u001b[0m \u001b[39mif\u001b[39;00m nthreads \u001b[39m==\u001b[39m \u001b[39m1\u001b[39m:\n\u001b[1;32m--> <a href='file:///c%3A/Users/dheison/projects/etl/venv/lib/site-packages/pyarrow/pandas_compat.py?line=593'>594</a>\u001b[0m     arrays \u001b[39m=\u001b[39m [convert_column(c, f)\n\u001b[0;32m    <a href='file:///c%3A/Users/dheison/projects/etl/venv/lib/site-packages/pyarrow/pandas_compat.py?line=594'>595</a>\u001b[0m               \u001b[39mfor\u001b[39;00m c, f \u001b[39min\u001b[39;00m \u001b[39mzip\u001b[39m(columns_to_convert, convert_fields)]\n\u001b[0;32m    <a href='file:///c%3A/Users/dheison/projects/etl/venv/lib/site-packages/pyarrow/pandas_compat.py?line=595'>596</a>\u001b[0m \u001b[39melse\u001b[39;00m:\n\u001b[0;32m    <a href='file:///c%3A/Users/dheison/projects/etl/venv/lib/site-packages/pyarrow/pandas_compat.py?line=596'>597</a>\u001b[0m     arrays \u001b[39m=\u001b[39m []\n",
      "File \u001b[1;32mc:\\Users\\dheison\\projects\\etl\\venv\\lib\\site-packages\\pyarrow\\pandas_compat.py:581\u001b[0m, in \u001b[0;36mdataframe_to_arrays.<locals>.convert_column\u001b[1;34m(col, field)\u001b[0m\n\u001b[0;32m    <a href='file:///c%3A/Users/dheison/projects/etl/venv/lib/site-packages/pyarrow/pandas_compat.py?line=575'>576</a>\u001b[0m \u001b[39mexcept\u001b[39;00m (pa\u001b[39m.\u001b[39mArrowInvalid,\n\u001b[0;32m    <a href='file:///c%3A/Users/dheison/projects/etl/venv/lib/site-packages/pyarrow/pandas_compat.py?line=576'>577</a>\u001b[0m         pa\u001b[39m.\u001b[39mArrowNotImplementedError,\n\u001b[0;32m    <a href='file:///c%3A/Users/dheison/projects/etl/venv/lib/site-packages/pyarrow/pandas_compat.py?line=577'>578</a>\u001b[0m         pa\u001b[39m.\u001b[39mArrowTypeError) \u001b[39mas\u001b[39;00m e:\n\u001b[0;32m    <a href='file:///c%3A/Users/dheison/projects/etl/venv/lib/site-packages/pyarrow/pandas_compat.py?line=578'>579</a>\u001b[0m     e\u001b[39m.\u001b[39margs \u001b[39m+\u001b[39m\u001b[39m=\u001b[39m (\u001b[39m\"\u001b[39m\u001b[39mConversion failed for column \u001b[39m\u001b[39m{!s}\u001b[39;00m\u001b[39m with type \u001b[39m\u001b[39m{!s}\u001b[39;00m\u001b[39m\"\u001b[39m\n\u001b[0;32m    <a href='file:///c%3A/Users/dheison/projects/etl/venv/lib/site-packages/pyarrow/pandas_compat.py?line=579'>580</a>\u001b[0m                \u001b[39m.\u001b[39mformat(col\u001b[39m.\u001b[39mname, col\u001b[39m.\u001b[39mdtype),)\n\u001b[1;32m--> <a href='file:///c%3A/Users/dheison/projects/etl/venv/lib/site-packages/pyarrow/pandas_compat.py?line=580'>581</a>\u001b[0m     \u001b[39mraise\u001b[39;00m e\n\u001b[0;32m    <a href='file:///c%3A/Users/dheison/projects/etl/venv/lib/site-packages/pyarrow/pandas_compat.py?line=581'>582</a>\u001b[0m \u001b[39mif\u001b[39;00m \u001b[39mnot\u001b[39;00m field_nullable \u001b[39mand\u001b[39;00m result\u001b[39m.\u001b[39mnull_count \u001b[39m>\u001b[39m \u001b[39m0\u001b[39m:\n\u001b[0;32m    <a href='file:///c%3A/Users/dheison/projects/etl/venv/lib/site-packages/pyarrow/pandas_compat.py?line=582'>583</a>\u001b[0m     \u001b[39mraise\u001b[39;00m \u001b[39mValueError\u001b[39;00m(\u001b[39m\"\u001b[39m\u001b[39mField \u001b[39m\u001b[39m{}\u001b[39;00m\u001b[39m was non-nullable but pandas column \u001b[39m\u001b[39m\"\u001b[39m\n\u001b[0;32m    <a href='file:///c%3A/Users/dheison/projects/etl/venv/lib/site-packages/pyarrow/pandas_compat.py?line=583'>584</a>\u001b[0m                      \u001b[39m\"\u001b[39m\u001b[39mhad \u001b[39m\u001b[39m{}\u001b[39;00m\u001b[39m null values\u001b[39m\u001b[39m\"\u001b[39m\u001b[39m.\u001b[39mformat(\u001b[39mstr\u001b[39m(field),\n\u001b[0;32m    <a href='file:///c%3A/Users/dheison/projects/etl/venv/lib/site-packages/pyarrow/pandas_compat.py?line=584'>585</a>\u001b[0m                                                  result\u001b[39m.\u001b[39mnull_count))\n",
      "File \u001b[1;32mc:\\Users\\dheison\\projects\\etl\\venv\\lib\\site-packages\\pyarrow\\pandas_compat.py:575\u001b[0m, in \u001b[0;36mdataframe_to_arrays.<locals>.convert_column\u001b[1;34m(col, field)\u001b[0m\n\u001b[0;32m    <a href='file:///c%3A/Users/dheison/projects/etl/venv/lib/site-packages/pyarrow/pandas_compat.py?line=571'>572</a>\u001b[0m     type_ \u001b[39m=\u001b[39m field\u001b[39m.\u001b[39mtype\n\u001b[0;32m    <a href='file:///c%3A/Users/dheison/projects/etl/venv/lib/site-packages/pyarrow/pandas_compat.py?line=573'>574</a>\u001b[0m \u001b[39mtry\u001b[39;00m:\n\u001b[1;32m--> <a href='file:///c%3A/Users/dheison/projects/etl/venv/lib/site-packages/pyarrow/pandas_compat.py?line=574'>575</a>\u001b[0m     result \u001b[39m=\u001b[39m pa\u001b[39m.\u001b[39;49marray(col, \u001b[39mtype\u001b[39;49m\u001b[39m=\u001b[39;49mtype_, from_pandas\u001b[39m=\u001b[39;49m\u001b[39mTrue\u001b[39;49;00m, safe\u001b[39m=\u001b[39;49msafe)\n\u001b[0;32m    <a href='file:///c%3A/Users/dheison/projects/etl/venv/lib/site-packages/pyarrow/pandas_compat.py?line=575'>576</a>\u001b[0m \u001b[39mexcept\u001b[39;00m (pa\u001b[39m.\u001b[39mArrowInvalid,\n\u001b[0;32m    <a href='file:///c%3A/Users/dheison/projects/etl/venv/lib/site-packages/pyarrow/pandas_compat.py?line=576'>577</a>\u001b[0m         pa\u001b[39m.\u001b[39mArrowNotImplementedError,\n\u001b[0;32m    <a href='file:///c%3A/Users/dheison/projects/etl/venv/lib/site-packages/pyarrow/pandas_compat.py?line=577'>578</a>\u001b[0m         pa\u001b[39m.\u001b[39mArrowTypeError) \u001b[39mas\u001b[39;00m e:\n\u001b[0;32m    <a href='file:///c%3A/Users/dheison/projects/etl/venv/lib/site-packages/pyarrow/pandas_compat.py?line=578'>579</a>\u001b[0m     e\u001b[39m.\u001b[39margs \u001b[39m+\u001b[39m\u001b[39m=\u001b[39m (\u001b[39m\"\u001b[39m\u001b[39mConversion failed for column \u001b[39m\u001b[39m{!s}\u001b[39;00m\u001b[39m with type \u001b[39m\u001b[39m{!s}\u001b[39;00m\u001b[39m\"\u001b[39m\n\u001b[0;32m    <a href='file:///c%3A/Users/dheison/projects/etl/venv/lib/site-packages/pyarrow/pandas_compat.py?line=579'>580</a>\u001b[0m                \u001b[39m.\u001b[39mformat(col\u001b[39m.\u001b[39mname, col\u001b[39m.\u001b[39mdtype),)\n",
      "File \u001b[1;32mc:\\Users\\dheison\\projects\\etl\\venv\\lib\\site-packages\\pyarrow\\array.pxi:312\u001b[0m, in \u001b[0;36mpyarrow.lib.array\u001b[1;34m()\u001b[0m\n",
      "File \u001b[1;32mc:\\Users\\dheison\\projects\\etl\\venv\\lib\\site-packages\\pyarrow\\array.pxi:83\u001b[0m, in \u001b[0;36mpyarrow.lib._ndarray_to_array\u001b[1;34m()\u001b[0m\n",
      "File \u001b[1;32mc:\\Users\\dheison\\projects\\etl\\venv\\lib\\site-packages\\pyarrow\\error.pxi:122\u001b[0m, in \u001b[0;36mpyarrow.lib.check_status\u001b[1;34m()\u001b[0m\n",
      "\u001b[1;31mArrowTypeError\u001b[0m: (\"Expected bytes, got a 'int' object\", 'Conversion failed for column status with type object')"
     ]
    }
   ],
   "source": [
    "df.to_parquet(f'gs://datalake-katsu/league-exp/{file_name}')"
   ]
  },
  {
   "cell_type": "code",
   "execution_count": null,
   "metadata": {},
   "outputs": [
    {
     "data": {
      "text/plain": [
       "datetime.date(2022, 4, 2)"
      ]
     },
     "execution_count": 30,
     "metadata": {},
     "output_type": "execute_result"
    }
   ],
   "source": [
    "\n",
    "\n"
   ]
  }
 ],
 "metadata": {
  "interpreter": {
   "hash": "aa8c3a3939711f5d70977b3fde1788a0dc9815a5abd0c1b218bb7a4a1b927be6"
  },
  "kernelspec": {
   "display_name": "Python 3.10.2 ('venv': venv)",
   "language": "python",
   "name": "python3"
  },
  "language_info": {
   "codemirror_mode": {
    "name": "ipython",
    "version": 3
   },
   "file_extension": ".py",
   "mimetype": "text/x-python",
   "name": "python",
   "nbconvert_exporter": "python",
   "pygments_lexer": "ipython3",
   "version": "3.10.2"
  },
  "orig_nbformat": 4
 },
 "nbformat": 4,
 "nbformat_minor": 2
}
